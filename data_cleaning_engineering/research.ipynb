{
 "cells": [
  {
   "cell_type": "code",
   "id": "initial_id",
   "metadata": {
    "collapsed": true,
    "ExecuteTime": {
     "end_time": "2025-04-25T07:46:14.650288Z",
     "start_time": "2025-04-25T07:46:10.494712Z"
    }
   },
   "source": [
    "from pandas import read_json\n",
    "import clean_data as cd\n",
    "from coordinate_fix import coordinate_fix\n",
    "from urban_fix import urban_fix\n",
    "from engineer import engineer\n",
    "from na_fix import fill_na\n",
    "\n",
    "import importlib\n",
    "importlib.reload(cd)"
   ],
   "outputs": [
    {
     "data": {
      "text/plain": [
       "<module 'clean_data' from 'C:\\\\Users\\\\Giorgi\\\\Desktop\\\\Git\\\\BA-Thesis\\\\data_cleaning_engineering\\\\clean_data.py'>"
      ]
     },
     "execution_count": 1,
     "metadata": {},
     "output_type": "execute_result"
    }
   ],
   "execution_count": 1
  },
  {
   "metadata": {
    "ExecuteTime": {
     "end_time": "2025-04-25T07:46:31.903161Z",
     "start_time": "2025-04-25T07:46:14.735241Z"
    }
   },
   "cell_type": "code",
   "source": [
    "path = '2025-04-19.json'\n",
    "reference_date = '2025-04-19'\n",
    "df = read_json(path)\n",
    "df = cd.clean(df)\n",
    "df = cd.drop_useless(df)\n",
    "df = engineer(df,reference_date)\n",
    "df = coordinate_fix(df)\n",
    "df = urban_fix(df)\n",
    "df = fill_na(df)"
   ],
   "id": "df729ec7b438edb2",
   "outputs": [],
   "execution_count": 2
  },
  {
   "metadata": {
    "ExecuteTime": {
     "end_time": "2025-04-24T16:12:43.642510Z",
     "start_time": "2025-04-24T16:12:43.636106Z"
    }
   },
   "cell_type": "code",
   "source": [
    "count = 0\n",
    "for col in df.columns:\n",
    "    print(col)\n",
    "    count+=1\n",
    "print(count)\n"
   ],
   "id": "5df0f17c7398192",
   "outputs": [
    {
     "name": "stdout",
     "output_type": "stream",
     "text": [
      "id\n",
      "price_2_price_total\n",
      "price_2_price_square\n",
      "estate_status_types\n",
      "room_type_id\n",
      "bedroom_type_id\n",
      "bathroom_type\n",
      "project_type\n",
      "heating_type\n",
      "parking_type\n",
      "height\n",
      "balconies\n",
      "balcony_area\n",
      "lat\n",
      "lng\n",
      "storeroom_type\n",
      "material_type\n",
      "area\n",
      "floor\n",
      "total_floors\n",
      "views\n",
      "is_old\n",
      "can_exchanged\n",
      "for_special_people\n",
      "swimming_pool_type\n",
      "hot_water_type\n",
      "condition\n",
      "living_room_type\n",
      "build_year\n",
      "user_statements_count\n",
      "has_color\n",
      "has_gas\n",
      "has_internet\n",
      "has_TV\n",
      "has_air_conditioner\n",
      "has_alarms\n",
      "has_elevator\n",
      "has_ventilation\n",
      "has_freight_elevator\n",
      "has_chimney\n",
      "has_furniture\n",
      "has_telephone\n",
      "has_protection\n",
      "has_Jacuzzi\n",
      "has_swimming_pool\n",
      "has_sauna\n",
      "has_fridge\n",
      "has_washing_machine\n",
      "has_dishwasher\n",
      "has_stove\n",
      "has_oven\n",
      "has_living_room\n",
      "has_loggia\n",
      "has_veranda\n",
      "has_water\n",
      "has_sewage\n",
      "has_electricity\n",
      "has_spa\n",
      "has_bar\n",
      "has_gym\n",
      "has_coded_door\n",
      "has_grill\n",
      "has_bed\n",
      "has_sofa\n",
      "has_table\n",
      "has_chair\n",
      "has_kitchen_with_technology\n",
      "has_storage_room\n",
      "Booking/AirBnb account\n",
      "for_investment\n",
      "images_large\n",
      "user_type\n",
      "user_id_count\n",
      "created_days_ago\n",
      "updated_days_ago\n",
      "has_project_id\n",
      "vip\n",
      "urban\n",
      "78\n"
     ]
    }
   ],
   "execution_count": 13
  },
  {
   "metadata": {
    "ExecuteTime": {
     "end_time": "2025-04-25T07:46:32.368120Z",
     "start_time": "2025-04-25T07:46:32.362244Z"
    }
   },
   "cell_type": "code",
   "source": "df['user_statements_count']",
   "id": "9d5417fb64799912",
   "outputs": [
    {
     "data": {
      "text/plain": [
       "0          1\n",
       "1          1\n",
       "2        145\n",
       "3          4\n",
       "4          4\n",
       "        ... \n",
       "77213      4\n",
       "77214     20\n",
       "77215     20\n",
       "77216      1\n",
       "77217      6\n",
       "Name: user_statements_count, Length: 77218, dtype: int64"
      ]
     },
     "execution_count": 3,
     "metadata": {},
     "output_type": "execute_result"
    }
   ],
   "execution_count": 3
  },
  {
   "metadata": {
    "ExecuteTime": {
     "end_time": "2025-04-24T16:12:46.869296Z",
     "start_time": "2025-04-24T16:12:46.723705Z"
    }
   },
   "cell_type": "code",
   "source": [
    "na_counts  = df.isna().sum()\n",
    "na_counts_with_nas = na_counts[na_counts > 0]\n",
    "print(na_counts_with_nas)"
   ],
   "id": "c439f53905d01d70",
   "outputs": [
    {
     "name": "stdout",
     "output_type": "stream",
     "text": [
      "Series([], dtype: int64)\n"
     ]
    }
   ],
   "execution_count": 14
  },
  {
   "metadata": {
    "ExecuteTime": {
     "end_time": "2025-04-24T16:52:33.675701Z",
     "start_time": "2025-04-24T16:52:33.660300Z"
    }
   },
   "cell_type": "code",
   "source": "df['urban'].unique()",
   "id": "f418acaf3029e37d",
   "outputs": [
    {
     "data": {
      "text/plain": [
       "array(['Saburtalo', 'Didi Dighomi', 'Krtsanisi', 'Mtatsminda', 'Vake',\n",
       "       'Isani', 'Samgori', 'Nadzaladevi', 'Vashlijvari', 'Chughureti',\n",
       "       'Gldani', 'Didube'], dtype=object)"
      ]
     },
     "execution_count": 15,
     "metadata": {},
     "output_type": "execute_result"
    }
   ],
   "execution_count": 15
  }
 ],
 "metadata": {
  "kernelspec": {
   "display_name": "Python 3",
   "language": "python",
   "name": "python3"
  },
  "language_info": {
   "codemirror_mode": {
    "name": "ipython",
    "version": 2
   },
   "file_extension": ".py",
   "mimetype": "text/x-python",
   "name": "python",
   "nbconvert_exporter": "python",
   "pygments_lexer": "ipython2",
   "version": "2.7.6"
  }
 },
 "nbformat": 4,
 "nbformat_minor": 5
}
